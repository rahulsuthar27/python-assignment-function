{
  "nbformat": 4,
  "nbformat_minor": 0,
  "metadata": {
    "colab": {
      "provenance": []
    },
    "kernelspec": {
      "name": "python3",
      "display_name": "Python 3"
    },
    "language_info": {
      "name": "python"
    }
  },
  "cells": [
    {
      "cell_type": "markdown",
      "source": [
        "# ***Assignment Function***\n",
        "# ***Theory Question***"
      ],
      "metadata": {
        "id": "alkkUpFTQJTQ"
      }
    },
    {
      "cell_type": "markdown",
      "source": [
        "# 1.What is the difference between a function and a method in Python?\n",
        "\n",
        "answ->The difference between a function and a method in Python lies in their association and usage:\n",
        "\n",
        " Function\n",
        "\n",
        "A function is a block of code that is independent of any class.\n",
        "It is defined using the def keyword.\n",
        "Functions can be called directly without being tied to any object.\n",
        "Example of a Function:\n",
        "\n",
        "def add(x, y):\n",
        "    \n",
        "    return x + y\n",
        "\n",
        "result = add(2, 3)  # Calling a function\n",
        "\n",
        "print(result)  # Output: 5\n",
        "\n",
        " Method\n",
        "\n",
        "A method is a function that is defined inside a class and is associated with an object or the class itself.\n",
        "It is called using an object or class.\n",
        "The first parameter of an instance method is usually self, which refers to the instance of the class.\n",
        "\n",
        "Example of a Method:\n",
        "\n",
        "python\n",
        "\n",
        "class Calculator:\n",
        "    \n",
        "    def add(self, x, y):  # 'self' refers to the instance of the class\n",
        "    \n",
        "        return x + y\n",
        "\n",
        "calc = Calculator()\n",
        "\n",
        "result = calc.add(2, 3)  # Calling a method using an object\n",
        "\n",
        "print(result)  # Output: 5"
      ],
      "metadata": {
        "id": "eT0Rdxy0QJWJ"
      }
    },
    {
      "cell_type": "markdown",
      "source": [
        "# 2.Explain the concept of function arguments and parameters in Python.\n",
        "\n",
        "answ->In Python, function arguments and parameters are terms related to passing data into functions.\n",
        "\n",
        "Parameters vs Arguments\n",
        "\n",
        "Parameters: These are the placeholders or variable names defined in a function's definition.\n",
        "\n",
        "Arguments: These are the actual values you pass to the function when calling it.\n",
        "\n",
        "Example:\n",
        "\n",
        "def greet(name):  # 'name' is a parameter\n",
        "    \n",
        "    print(f\"Hello, {name}!\")\n",
        "\n",
        "greet(\"Rahul\")  # \"Rahul\" is the argument\n",
        "\n",
        "Here:\n",
        "\n",
        "name is the parameter (defined in the function).\n",
        "\n",
        "\"Rahul\" is the argument (passed when the function is called).\n",
        "\n",
        "Types of Function Arguments in Python\n",
        "\n",
        "Python allows different types of arguments when calling a function:\n",
        "\n",
        "Positional Arguments\n",
        "\n",
        "Keyword Arguments\n",
        "\n",
        "Default Arguments\n",
        "\n",
        "Variable-Length Arguments (*args and **kwargs)"
      ],
      "metadata": {
        "id": "K3XadbqoQJYx"
      }
    },
    {
      "cell_type": "markdown",
      "source": [
        "3. What are the different ways to define and call a function in Python?\n",
        "\n",
        "answ->In Python, functions can be defined and called in various ways to handle a range of use cases. Here’s a breakdown:\n",
        "\n",
        "\n",
        "In Python, functions can be defined and called in various ways to handle a range of use cases.\n",
        "\n",
        "Defining Functions in Python\n",
        "\n",
        "Regular Functions.\n",
        "\n",
        "Functions with Default Parameters.\n",
        "\n",
        "Variable-Length Functions (*args and **kwargs).\n",
        "\n",
        "Lambda Functions (Anonymous Functions).\n",
        "\n",
        "1.Regular Function Definition\n",
        "\n",
        "A function is defined using the def keyword.\n",
        "\n",
        "Example:\n",
        "\n",
        "def add(a, b):\n",
        "    \n",
        "    return a + b\n",
        "\n",
        "//Calling the function\n",
        "\n",
        "result = add(2, 3)\n",
        "\n",
        "print(result)  # Output: 5\n",
        "\n",
        "Functions with Default Parameters\n",
        "\n",
        " can assign default values to parameters, making them optional during the\n",
        "\n",
        " function call.\n",
        "\n",
        " Example:\n",
        "\n",
        " def greet(name, age=18):\n",
        "    \n",
        "    print(f\"Hello {name}, you are {age} years old.\")\n",
        "\n",
        "greet(\"Rahul\")       # Uses default age: 18\n",
        "\n",
        "greet(\"Rahul\", 25)   # Overrides default: 25\n",
        "\n",
        "Variable-Length Functions\n",
        "\n",
        "Python allows functions to accept variable numbers of arguments:\n",
        "\n",
        "a. *args (Non-Keyword Arguments)\n",
        "\n",
        "*args allows you to pass a variable number of positional arguments.\n",
        "\n",
        "Example:\n",
        "\n",
        "def add_all(*args):\n",
        "\n",
        "    return sum(args)\n",
        "\n",
        "print(add_all(1, 2, 3, 4))  # Output: 10\n",
        "\n",
        "**kwargs (Keyword Arguments)\n",
        "\n",
        "**kwargs allows you to pass a variable number of keyword arguments.\n",
        "\n",
        "Example:\n",
        "\n",
        "def show_details(**kwargs):\n",
        "\n",
        "    for key, value in kwargs.items():\n",
        "\n",
        "        print(f\"{key}: {value}\")\n",
        "\n",
        "show_details(name=\"Rahul\", age=25, city=\"Pali\")\n",
        "\n",
        "4.Lambda Functions (Anonymous Functions)\n",
        "\n",
        "A lambda function is a single-line, anonymous function defined using the lambda\n",
        "\n",
        "keyword.\n",
        "\n",
        "Syntax: lambda arguments: expression\n",
        "\n",
        "Example:\n",
        "\n",
        "square = lambda x: x * x\n",
        "\n",
        "print(square(5))  # Output: 25\n"
      ],
      "metadata": {
        "id": "P3vKyT_AQJbg"
      }
    },
    {
      "cell_type": "markdown",
      "source": [
        "4.What is the purpose of the `return` statement in a Python function.\n",
        "\n",
        "answ->The return statement in a Python function is used to send back a value from the function to the caller. It effectively exits the function and specifies what value (if any) the function should return.\n",
        "\n",
        "Purpose of the return Statement\n",
        "\n",
        "Returning a Value:\n",
        "\n",
        "It allows a function to send data back to the part of the program where the function was called.\n",
        "\n",
        "Example:\n",
        "\n",
        "def add(a, b):\n",
        "    \n",
        "    return a + b\n",
        "\n",
        "result = add(3, 5)\n",
        "\n",
        "print(result)  # Output: 8\n",
        "\n",
        "Exiting the Function:\n",
        "\n",
        "When return is encountered, the function immediately stops execution and exits, even if there is more code after it.\n",
        "\n",
        "Example:\n",
        "\n",
        "def example():\n",
        "\n",
        "    print(\"Before return\")\n",
        "\n",
        "    return\n",
        "\n",
        "    print(\"After return\")  # This line will never execute.\n",
        "\n",
        "example()\n",
        "\n",
        "// Output: \"Before return\"\n"
      ],
      "metadata": {
        "id": "U6QVivx5QJeG"
      }
    },
    {
      "cell_type": "markdown",
      "source": [
        "5.What are iterators in Python and how do they differ from iterables.\n",
        "\n",
        "answ->In Python, iterators and iterables are closely related concepts, but they have distinct roles when it comes to iterating over data.\n",
        "\n",
        " What is an Iterable?\n",
        "\n",
        "An iterable is any Python object that can be looped over (iterated) using a for loop. It is an object that implements the __iter__() method, which returns an iterator.\n",
        "\n",
        "Common examples of iterables:\n",
        "\n",
        "Lists, tuples, strings, dictionaries, sets, and custom objects implementing __iter__.\n",
        "\n",
        "Example of an Iterable:\n",
        "\n",
        "my_list = [1, 2, 3]  # A list is an iterable\n",
        "\n",
        "for item in my_list:\n",
        "\n",
        "    print(item)  # Output: 1, 2, 3\n",
        "\n",
        "What is an Iterator?\n",
        "\n",
        "An iterator is an object that produces one value at a time from an iterable. It implements two methods:\n",
        "\n",
        "__iter__(): Returns the iterator object itself.\n",
        "\n",
        "__next__(): Returns the next value in the sequence. Raises a StopIteration exception when there are no more items to return.\n",
        "\n",
        "You can explicitly use next() to get the values from an iterator.\n",
        "\n",
        "Example of an Iterator:\n",
        "\n",
        "my_list = [1, 2, 3]\n",
        "\n",
        "iterator = iter(my_list)  # Create an iterator using iter()\n",
        "\n",
        "print(next(iterator))  # Output: 1\n",
        "\n",
        "print(next(iterator))  # Output: 2\n",
        "\n",
        "print(next(iterator))  # Output: 3\n",
        "\n",
        "// print(next(iterator))  # Raises StopIteration\n"
      ],
      "metadata": {
        "id": "mR-bElKNQJgh"
      }
    },
    {
      "cell_type": "markdown",
      "source": [
        "6.Explain the concept of generators in Python and how they are defined.\n",
        "\n",
        "answ->Generators in Python\n",
        "Generators in Python are special types of iterators that allow you to generate values on the fly instead of storing them in memory all at once. They are useful for working with large datasets or infinite sequences because they produce one value at a time as needed.\n",
        "\n",
        "Generators are defined using:\n",
        "\n",
        "The yield keyword (instead of return).\n",
        "\n",
        "Generator expressions (similar to list comprehensions).\n",
        "\n",
        "Defining Generators\n",
        "\n",
        "Using yield in a Function\n",
        "\n",
        "A generator function is defined like a normal function, but it uses yield instead of return to produce values one at a time.\n",
        "\n",
        "Example:\n",
        "\n",
        "def my_generator():\n",
        "    \n",
        "    yield 1\n",
        "    \n",
        "    yield 2\n",
        "    \n",
        "    yield 3\n",
        "\n",
        "gen = my_generator()  # Creates a generator object\n",
        "\n",
        "print(next(gen))  # Output: 1\n",
        "\n",
        "print(next(gen))  # Output: 2\n",
        "\n",
        "print(next(gen))  # Output: 3\n",
        "\n",
        "// print(next(gen))  # Raises StopIteration\n",
        "\n",
        "Using Generator Expressions\n",
        "\n",
        "Generators can also be created using a compact syntax similar to list comprehensions, but with parentheses () instead of square brackets [].\n",
        "\n",
        "Example:\n",
        "\n",
        "gen = (x**2 for x in range(5))  # Generator expression\n",
        "\n",
        "print(next(gen))  # Output: 0\n",
        "\n",
        "print(next(gen))  # Output: 1\n",
        "\n",
        "print(next(gen))  # Output: 4\n"
      ],
      "metadata": {
        "id": "qeqmZv8gQJjl"
      }
    },
    {
      "cell_type": "markdown",
      "source": [
        "7.What are the advantages of using generators over regular functions.\n",
        "\n",
        "answ->Generators in Python provide several advantages over regular functions, especially when dealing with large datasets, streams of data, or scenarios where memory optimization is critical. Here are the key advantages:\n",
        "\n",
        " Memory Efficiency\n",
        "\n",
        "Generators produce values on demand and do not store all the values in memory. This makes them memory-efficient, particularly when working with large datasets or infinite sequences.\n",
        "\n",
        "Regular functions: Store all the results in memory (e.g., lists).\n",
        "\n",
        "Generators: Yield one value at a time, reducing memory usage.\n",
        "\n",
        "Example: Generating squares of numbers.\n",
        "\n",
        "//Generator version (memory-efficient)\n",
        "\n",
        "def squares_generator(n):\n",
        "\n",
        "    for i in range(n):\n",
        "\n",
        "        yield i * i\n",
        "\n",
        "// List version (consumes more memory)\n",
        "\n",
        "def squares_list(n):\n",
        "\n",
        "    return [i * i for i in range(n)]\n",
        "\n",
        " Memory consumption: Large n will use more memory with lists.\n",
        "\n",
        " Lazy Evaluation\n",
        "\n",
        "Generators use lazy evaluation, meaning they produce values only when requested. This is ideal for:\n",
        "\n",
        "Processing large files or data streams.\n",
        "\n",
        "Infinite sequences.\n",
        "\n",
        "Example: Generating an infinite sequence of numbers.\n",
        "\n",
        "def infinite_sequence():\n",
        "\n",
        "    num = 0\n",
        "\n",
        "    while True:\n",
        "\n",
        "        yield num\n",
        "\n",
        "        num += 1\n",
        "\n",
        "\n",
        "gen = infinite_sequence()\n",
        "\n",
        "print(next(gen))  # Output: 0\n",
        "\n",
        "print(next(gen))  # Output: 1\n"
      ],
      "metadata": {
        "id": "EW0tTcXXQJmQ"
      }
    },
    {
      "cell_type": "markdown",
      "source": [
        "8.What is a lambda function in Python and when is it typically used.\n",
        "\n",
        "answ->Lambda Function in Python\n",
        "A lambda function in Python is a small, anonymous function that is defined using the lambda keyword. Unlike regular functions, a lambda function is written in a single line and can have multiple arguments, but it can only contain a single expression. The value of the expression is implicitly returned.\n",
        "\n",
        "Syntax:\n",
        "\n",
        "lambda arguments: expression\n",
        "\n",
        "arguments: A comma-separated list of parameters the function takes (like regular function arguments).\n",
        "\n",
        "expression: A single expression whose result is returned.\n",
        "\n",
        "\n",
        "Example:\n",
        "\n",
        "// Regular function\n",
        "\n",
        "def add(x, y):\n",
        "\n",
        "    return x + y\n",
        "\n",
        "// Lambda function equivalent\n",
        "\n",
        "add_lambda = lambda x, y: x + y\n",
        "\n",
        "print(add_lambda(3, 5))  # Output: 8\n",
        "\n",
        "Typical Use Cases of Lambda Functions\n",
        "\n",
        "Lambda functions are typically used in situations where you need a short, throwaway function that is used temporarily and does not require the overhead of defining a full function. Some common scenarios include:\n",
        "\n",
        "In conjunction with higher-order functions:\n",
        "\n",
        "map(): Applies a function to all items in an iterable.\n",
        "\n",
        "filter(): Filters items in an iterable based on a condition.\n",
        "\n",
        "sorted(): Sorts an iterable based on a custom sorting key.\n",
        "\n",
        "When a function is needed for a short period: When you need a quick function for a short period and don’t want to define a full function, a lambda function is ideal."
      ],
      "metadata": {
        "id": "UQ_e6je_QJpR"
      }
    },
    {
      "cell_type": "markdown",
      "source": [
        "9.Explain the purpose and usage of the `map()` function in Python.\n",
        "\n",
        "answ->The map() Function in Python\n",
        "The map() function in Python is a built-in function that allows you to apply a function to all the items in an iterable (such as a list, tuple, or string) and return a map object, which is an iterator that yields the results of applying the function.\n",
        "\n",
        "Syntax:\n",
        "\n",
        "map(function, iterable, ...)\n",
        "\n",
        "function: The function to apply to each item in the iterable. This can be a normal function or a lambda function.\n",
        "\n",
        "iterable: One or more iterable objects (like lists, tuples, etc.) whose elements will be processed by the function.\n",
        "\n",
        "If multiple iterables are passed, the function must take as many arguments as there are iterables. The map() function applies the function to the items of the iterables in parallel, stopping when the shortest iterable is exhausted.\n",
        "\n",
        "Return Value:\n",
        "\n",
        "map() returns a map object (an iterator). You can convert it to a list, tuple, or other collection type if needed.\n",
        "\n",
        "Example 1: Using map() with a Simple Function\n",
        "\n",
        "Suppose you want to square each number in a list. You can use map() to apply a function to each element in the list.\n",
        "\n",
        "def square(x):\n",
        "    \n",
        "    return x ** 2\n",
        "\n",
        "numbers = [1, 2, 3, 4]\n",
        "\n",
        "squared_numbers = map(square, numbers)\n",
        "\n",
        "// Convert to a list to see the result\n",
        "\n",
        "print(list(squared_numbers))  # Output: [1, 4, 9, 16]\n",
        "\n",
        "Example 2: Using map() with a Lambda Function\n",
        "\n",
        "numbers = [1, 2, 3, 4]\n",
        "\n",
        "squared_numbers = map(lambda x: x ** 2, numbers)\n",
        "\n",
        "// Convert to a list to see the result\n",
        "\n",
        "print(list(squared_numbers))  # Output: [1, 4, 9, 16]\n",
        "\n"
      ],
      "metadata": {
        "id": "AyE1GLhJQJrz"
      }
    },
    {
      "cell_type": "markdown",
      "source": [
        "10.What is the difference between `map()`, `reduce()`, and `filter()` functions in Python.\n",
        "\n",
        "answ->1. map() Function\n",
        "\n",
        "Purpose: The map() function applies a given function to each item in an iterable and returns an iterator (or map object) with the results.\n",
        "\n",
        "Output: An iterable (map object) containing the transformed elements.\n",
        "\n",
        "Use Case: When you want to apply a function to each element of an iterable (like transforming or processing elements).\n",
        "\n",
        "Syntax:\n",
        "\n",
        "map(function, iterable)\n",
        "\n",
        "Example:\n",
        "\n",
        "numbers = [1, 2, 3, 4]\n",
        "\n",
        "squared = map(lambda x: x**2, numbers)\n",
        "\n",
        "print(list(squared))  # Output: [1, 4, 9, 16]\n",
        "\n",
        "filter() Function\n",
        "\n",
        "Purpose: The filter() function filters elements of an iterable based on a\n",
        "condition function. It returns an iterator containing only those items that evaluate to True when passed to the function.\n",
        "\n",
        "Output: An iterable (filter object) containing the items that satisfy the condition.\n",
        "\n",
        "Use Case: When you want to filter elements of an iterable based on a specific condition (e.g., removing unwanted values).\n",
        "\n",
        "Syntax:\n",
        "\n",
        "filter(function, iterable)\n"
      ],
      "metadata": {
        "id": "coAuCBFRQJuX"
      }
    },
    {
      "cell_type": "markdown",
      "source": [
        "# Practical Question"
      ],
      "metadata": {
        "id": "-xdPJ2oa8xHS"
      }
    },
    {
      "cell_type": "code",
      "source": [
        "#1.Write a Python function that takes a list of numbers as input and returns the sum of all even numbers in the list.\n",
        "from functools import reduce\n",
        "o = [1, 2, 3, 4, 11, 11, 22, 22]\n",
        "\n",
        "def b(o):\n",
        "    ab = 0\n",
        "    for i in o:\n",
        "        if i % 2 == 0:  # Check if the number is even\n",
        "            ab += i     # Add it to the sum\n",
        "    return ab\n",
        "\n",
        "print(b(o))"
      ],
      "metadata": {
        "id": "__Yd10Om8r5h",
        "colab": {
          "base_uri": "https://localhost:8080/"
        },
        "outputId": "804eae47-4e31-458d-fe6e-aeb557b0091b"
      },
      "execution_count": null,
      "outputs": [
        {
          "output_type": "stream",
          "name": "stdout",
          "text": [
            "50\n"
          ]
        }
      ]
    },
    {
      "cell_type": "code",
      "source": [
        "#2.Create a Python function that accepts a string and returns the reverse of that string.\n",
        "a = \"ab\"\n",
        "\n",
        "def c(a):\n",
        "    b = ''\n",
        "    # Iterate over the characters of the reversed string\n",
        "    for i in a[::-1]:\n",
        "        b += i\n",
        "    print(b)\n",
        "\n",
        "c(a)\n"
      ],
      "metadata": {
        "id": "GkBQX1v48r8V",
        "colab": {
          "base_uri": "https://localhost:8080/"
        },
        "outputId": "bf98f747-5f80-4c26-e95e-20174564515e"
      },
      "execution_count": null,
      "outputs": [
        {
          "output_type": "stream",
          "name": "stdout",
          "text": [
            "ba\n"
          ]
        }
      ]
    },
    {
      "cell_type": "code",
      "source": [
        "#3.Implement a Python function that takes a list of integers and returns a new list containing the squares of each number.\n",
        "a = [1, 2, 3, 4]\n",
        "b = lambda c: c**2\n",
        "result = map(b, a)\n",
        "print(list(result))\n",
        "print(\"ok\")\n"
      ],
      "metadata": {
        "id": "BoWBbm4K8r_L",
        "colab": {
          "base_uri": "https://localhost:8080/"
        },
        "outputId": "16676173-e302-40cc-cda3-62e754cdcc28"
      },
      "execution_count": null,
      "outputs": [
        {
          "output_type": "stream",
          "name": "stdout",
          "text": [
            "[1, 4, 9, 16]\n",
            "ok\n"
          ]
        }
      ]
    },
    {
      "cell_type": "code",
      "source": [
        "#4.Write a Python function that checks if a given number is prime or not from 1 to 200.\n",
        "a = range(1, 201)\n",
        "b = filter(lambda c: all(c % i != 0 for i in range(2, int(c**0.5) + 1)), a)\n",
        "print(list(b))\n",
        "print(\"ok\")\n"
      ],
      "metadata": {
        "id": "hsyDDW4T8sBy",
        "colab": {
          "base_uri": "https://localhost:8080/"
        },
        "outputId": "444b629d-2878-42b9-a9b4-6d6e5c6f46a4"
      },
      "execution_count": null,
      "outputs": [
        {
          "output_type": "stream",
          "name": "stdout",
          "text": [
            "[1, 2, 3, 5, 7, 11, 13, 17, 19, 23, 29, 31, 37, 41, 43, 47, 53, 59, 61, 67, 71, 73, 79, 83, 89, 97, 101, 103, 107, 109, 113, 127, 131, 137, 139, 149, 151, 157, 163, 167, 173, 179, 181, 191, 193, 197, 199]\n",
            "ok\n"
          ]
        }
      ]
    },
    {
      "cell_type": "code",
      "source": [
        "#5.Create an iterator class in Python that generates the Fibonacci sequence up to a specified number of terms.\n",
        "class FibonacciIterator:\n",
        "    def __init__(self, n):\n",
        "        self.n = n\n",
        "        self.a, self.b = 0, 1\n",
        "\n",
        "    def __iter__(self):\n",
        "        return self\n",
        "\n",
        "    def __next__(self):\n",
        "        if self.n <= 0:\n",
        "            raise StopIteration\n",
        "        current = self.a\n",
        "        self.a, self.b = self.b, self.a + self.b\n",
        "        self.n -= 1\n",
        "        return current\n",
        "\n",
        "fibonacci_sequence = FibonacciIterator(10)\n",
        "for num in fibonacci_sequence:\n",
        "    print(num)\n"
      ],
      "metadata": {
        "id": "Zj4SXldL8sEU",
        "colab": {
          "base_uri": "https://localhost:8080/"
        },
        "outputId": "790a0ab4-374b-4bb0-f6d1-6939d70648a0"
      },
      "execution_count": null,
      "outputs": [
        {
          "output_type": "stream",
          "name": "stdout",
          "text": [
            "0\n",
            "1\n",
            "1\n",
            "2\n",
            "3\n",
            "5\n",
            "8\n",
            "13\n",
            "21\n",
            "34\n"
          ]
        }
      ]
    },
    {
      "cell_type": "code",
      "source": [
        "#6.Write a generator function in Python that yields the powers of 2 up to a given exponent.\n",
        "def powers_of_2_yield(n):\n",
        "    for i in range(n + 1):\n",
        "        yield 2 ** i\n",
        "\n",
        "for power in powers_of_2_yield(5):\n",
        "    print(power)\n"
      ],
      "metadata": {
        "id": "nsvUwzoL8sHQ",
        "colab": {
          "base_uri": "https://localhost:8080/"
        },
        "outputId": "b1093e82-2479-4135-ca97-d2f730da266b"
      },
      "execution_count": null,
      "outputs": [
        {
          "output_type": "stream",
          "name": "stdout",
          "text": [
            "1\n",
            "2\n",
            "4\n",
            "8\n",
            "16\n",
            "32\n"
          ]
        }
      ]
    },
    {
      "cell_type": "code",
      "source": [
        "#7.Implement a generator function that reads a file line by line and yields each line as a string.\n",
        "file_content = [\n",
        "    \"Hello, this is the first line.\",\n",
        "    \"This is the second line.\",\n",
        "    \"And this is the third line.\",\n",
        "    \"This is the fourth line.\",\n",
        "]\n",
        "\n",
        "\n",
        "def read_file_line_by_line(content):\n",
        "    for line in content:\n",
        "        yield line.strip()\n",
        "\n",
        "\n",
        "for line in read_file_line_by_line(file_content):\n",
        "    print(line)\n"
      ],
      "metadata": {
        "id": "8cywCOaU8sJ8",
        "colab": {
          "base_uri": "https://localhost:8080/"
        },
        "outputId": "0defd518-b53e-42fd-93e9-9e6df51561d3"
      },
      "execution_count": 1,
      "outputs": [
        {
          "output_type": "stream",
          "name": "stdout",
          "text": [
            "Hello, this is the first line.\n",
            "This is the second line.\n",
            "And this is the third line.\n",
            "This is the fourth line.\n"
          ]
        }
      ]
    },
    {
      "cell_type": "code",
      "source": [
        "#8.Use a lambda function in Python to sort a list of tuples based on the second element of each tuple.\n",
        "tuples_list = [(2, 1), (3, 1), (41, 41), (1, 1)]\n",
        "sorted_list = sorted(tuples_list, key=lambda c: c[1])\n",
        "print(\"Sorted list based on the second element:\", sorted_list)\n"
      ],
      "metadata": {
        "id": "ZrDaKb4t8sMP",
        "colab": {
          "base_uri": "https://localhost:8080/"
        },
        "outputId": "51ad895f-700d-4ae4-f44b-7bf28f222524"
      },
      "execution_count": 2,
      "outputs": [
        {
          "output_type": "stream",
          "name": "stdout",
          "text": [
            "Sorted list based on the second element: [(2, 1), (3, 1), (1, 1), (41, 41)]\n"
          ]
        }
      ]
    },
    {
      "cell_type": "code",
      "source": [
        "ab=[25,22,21,11]\n",
        "def a(b):\n",
        "    c=0\n",
        "    return (b*9/5)+32\n",
        "o=map(a,ab)\n",
        "print(f'{ab}c = {list(o)}f')"
      ],
      "metadata": {
        "id": "_762GNaYBFKZ",
        "colab": {
          "base_uri": "https://localhost:8080/"
        },
        "outputId": "54fa2886-8d11-4bdf-f2c0-1499b33b2133"
      },
      "execution_count": 3,
      "outputs": [
        {
          "output_type": "stream",
          "name": "stdout",
          "text": [
            "[25, 22, 21, 11]c = [77.0, 71.6, 69.8, 51.8]f\n"
          ]
        }
      ]
    },
    {
      "cell_type": "code",
      "source": [
        "#10.Create a Python program that uses `filter()` to remove all the vowels from a given string.\n",
        "ab=\"rahul suthat\"\n",
        "ba=\"aieou\"\n",
        "a=filter(lambda c:c not in ba,ab)\n",
        "stin=''.join(a)\n",
        "print(stin)"
      ],
      "metadata": {
        "id": "cvbTBVzb8sO-",
        "colab": {
          "base_uri": "https://localhost:8080/"
        },
        "outputId": "3bd12ae8-3815-420d-a040-8c3b6a3d3366"
      },
      "execution_count": 6,
      "outputs": [
        {
          "output_type": "stream",
          "name": "stdout",
          "text": [
            "rhl stht\n"
          ]
        }
      ]
    },
    {
      "cell_type": "code",
      "source": [
        "\"\"\"11Imagine an accounting routine used in a book shop. It works on a list with sublists, which look like this:\n",
        "Write a Python program, which returns a list with 2-tuples. Each tuple consists of the order number and the\n",
        "product of the price per item and the quantity. The product should be increased by 10,- € if the value of the\n",
        "order is smaller than 100,00 €.\n",
        "Write a Python program using lambda and map.\"\"\"\n",
        "orders =[\n",
        "[101, \"a\",4, 40.00],\n",
        "[102,\"b\", 5, 56.80],\n",
        "[103, \"c\",3, 32.95],\n",
        "[104,\"o\", 3, 24.99]]\n",
        "b=list(map(lambda a:(\n",
        "    a[0],\n",
        "    a[2] * a[3] + (10 if a[2] * a[3] < 100 else 0)\n",
        "    ),orders))\n",
        "print((b))"
      ],
      "metadata": {
        "id": "zug-xkrH8sRR",
        "colab": {
          "base_uri": "https://localhost:8080/"
        },
        "outputId": "81fcf8cf-44ac-4be8-9420-73bfaf2c4343"
      },
      "execution_count": 8,
      "outputs": [
        {
          "output_type": "stream",
          "name": "stdout",
          "text": [
            "[(101, 160.0), (102, 284.0), (103, 108.85000000000001), (104, 84.97)]\n"
          ]
        }
      ]
    },
    {
      "cell_type": "code",
      "source": [],
      "metadata": {
        "id": "aEE4PQ8M8sTm"
      },
      "execution_count": null,
      "outputs": []
    },
    {
      "cell_type": "code",
      "source": [],
      "metadata": {
        "id": "P44omg_M8sWR"
      },
      "execution_count": null,
      "outputs": []
    },
    {
      "cell_type": "code",
      "source": [],
      "metadata": {
        "id": "XdiQzGWH8sY-"
      },
      "execution_count": null,
      "outputs": []
    },
    {
      "cell_type": "code",
      "source": [],
      "metadata": {
        "id": "ANNsi-up8sch"
      },
      "execution_count": null,
      "outputs": []
    },
    {
      "cell_type": "markdown",
      "source": [],
      "metadata": {
        "id": "_BTZ-Hn6QJzZ"
      }
    },
    {
      "cell_type": "markdown",
      "source": [],
      "metadata": {
        "id": "4tbHoA8XQJ1k"
      }
    },
    {
      "cell_type": "markdown",
      "source": [],
      "metadata": {
        "id": "OeSmps0IQJ3z"
      }
    },
    {
      "cell_type": "markdown",
      "source": [],
      "metadata": {
        "id": "0yTejyx-QJ7Y"
      }
    },
    {
      "cell_type": "markdown",
      "source": [],
      "metadata": {
        "id": "TXbPHuc9QJ90"
      }
    },
    {
      "cell_type": "markdown",
      "source": [],
      "metadata": {
        "id": "36BMnUeLQKAl"
      }
    },
    {
      "cell_type": "markdown",
      "source": [],
      "metadata": {
        "id": "326pUnncQKC0"
      }
    },
    {
      "cell_type": "markdown",
      "source": [],
      "metadata": {
        "id": "QBre9Du4QKFS"
      }
    },
    {
      "cell_type": "markdown",
      "source": [],
      "metadata": {
        "id": "7tQ6XppGQKIM"
      }
    },
    {
      "cell_type": "markdown",
      "source": [],
      "metadata": {
        "id": "_KqOU8hjQKKO"
      }
    },
    {
      "cell_type": "markdown",
      "source": [],
      "metadata": {
        "id": "OhYKxNllQKMq"
      }
    },
    {
      "cell_type": "markdown",
      "source": [],
      "metadata": {
        "id": "S69FsX07QKOw"
      }
    },
    {
      "cell_type": "markdown",
      "source": [],
      "metadata": {
        "id": "IVbXE89KQKSC"
      }
    }
  ]
}